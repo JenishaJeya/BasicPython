{
 "cells": [
  {
   "cell_type": "code",
   "execution_count": 627,
   "id": "ff06fac0",
   "metadata": {},
   "outputs": [],
   "source": [
    "import numpy as np\n",
    "import pandas as pd\n",
    "import matplotlib.pyplot as plt\n",
    "import seaborn as sns\n",
    "%matplotlib inline\n"
   ]
  },
  {
   "cell_type": "code",
   "execution_count": 628,
   "id": "d3537f25",
   "metadata": {},
   "outputs": [
    {
     "data": {
      "text/html": [
       "<div>\n",
       "<style scoped>\n",
       "    .dataframe tbody tr th:only-of-type {\n",
       "        vertical-align: middle;\n",
       "    }\n",
       "\n",
       "    .dataframe tbody tr th {\n",
       "        vertical-align: top;\n",
       "    }\n",
       "\n",
       "    .dataframe thead th {\n",
       "        text-align: right;\n",
       "    }\n",
       "</style>\n",
       "<table border=\"1\" class=\"dataframe\">\n",
       "  <thead>\n",
       "    <tr style=\"text-align: right;\">\n",
       "      <th></th>\n",
       "      <th>total_bill</th>\n",
       "      <th>tip</th>\n",
       "      <th>smoker</th>\n",
       "      <th>day</th>\n",
       "      <th>time</th>\n",
       "      <th>size</th>\n",
       "    </tr>\n",
       "  </thead>\n",
       "  <tbody>\n",
       "    <tr>\n",
       "      <th>0</th>\n",
       "      <td>16.99</td>\n",
       "      <td>1.01</td>\n",
       "      <td>No</td>\n",
       "      <td>Sun</td>\n",
       "      <td>Dinner</td>\n",
       "      <td>2</td>\n",
       "    </tr>\n",
       "    <tr>\n",
       "      <th>1</th>\n",
       "      <td>10.34</td>\n",
       "      <td>1.66</td>\n",
       "      <td>No</td>\n",
       "      <td>Sun</td>\n",
       "      <td>Dinner</td>\n",
       "      <td>3</td>\n",
       "    </tr>\n",
       "    <tr>\n",
       "      <th>2</th>\n",
       "      <td>21.01</td>\n",
       "      <td>3.50</td>\n",
       "      <td>No</td>\n",
       "      <td>Sun</td>\n",
       "      <td>Dinner</td>\n",
       "      <td>3</td>\n",
       "    </tr>\n",
       "    <tr>\n",
       "      <th>3</th>\n",
       "      <td>23.68</td>\n",
       "      <td>3.31</td>\n",
       "      <td>No</td>\n",
       "      <td>Sun</td>\n",
       "      <td>Dinner</td>\n",
       "      <td>2</td>\n",
       "    </tr>\n",
       "    <tr>\n",
       "      <th>4</th>\n",
       "      <td>24.59</td>\n",
       "      <td>3.61</td>\n",
       "      <td>No</td>\n",
       "      <td>Sun</td>\n",
       "      <td>Dinner</td>\n",
       "      <td>4</td>\n",
       "    </tr>\n",
       "    <tr>\n",
       "      <th>...</th>\n",
       "      <td>...</td>\n",
       "      <td>...</td>\n",
       "      <td>...</td>\n",
       "      <td>...</td>\n",
       "      <td>...</td>\n",
       "      <td>...</td>\n",
       "    </tr>\n",
       "    <tr>\n",
       "      <th>239</th>\n",
       "      <td>29.03</td>\n",
       "      <td>5.92</td>\n",
       "      <td>No</td>\n",
       "      <td>Sat</td>\n",
       "      <td>Dinner</td>\n",
       "      <td>3</td>\n",
       "    </tr>\n",
       "    <tr>\n",
       "      <th>240</th>\n",
       "      <td>27.18</td>\n",
       "      <td>2.00</td>\n",
       "      <td>Yes</td>\n",
       "      <td>Sat</td>\n",
       "      <td>Dinner</td>\n",
       "      <td>2</td>\n",
       "    </tr>\n",
       "    <tr>\n",
       "      <th>241</th>\n",
       "      <td>22.67</td>\n",
       "      <td>2.00</td>\n",
       "      <td>Yes</td>\n",
       "      <td>Sat</td>\n",
       "      <td>Dinner</td>\n",
       "      <td>2</td>\n",
       "    </tr>\n",
       "    <tr>\n",
       "      <th>242</th>\n",
       "      <td>17.82</td>\n",
       "      <td>1.75</td>\n",
       "      <td>No</td>\n",
       "      <td>Sat</td>\n",
       "      <td>Dinner</td>\n",
       "      <td>2</td>\n",
       "    </tr>\n",
       "    <tr>\n",
       "      <th>243</th>\n",
       "      <td>18.78</td>\n",
       "      <td>3.00</td>\n",
       "      <td>No</td>\n",
       "      <td>Thur</td>\n",
       "      <td>Dinner</td>\n",
       "      <td>2</td>\n",
       "    </tr>\n",
       "  </tbody>\n",
       "</table>\n",
       "<p>244 rows × 6 columns</p>\n",
       "</div>"
      ],
      "text/plain": [
       "     total_bill   tip smoker   day    time  size\n",
       "0         16.99  1.01     No   Sun  Dinner     2\n",
       "1         10.34  1.66     No   Sun  Dinner     3\n",
       "2         21.01  3.50     No   Sun  Dinner     3\n",
       "3         23.68  3.31     No   Sun  Dinner     2\n",
       "4         24.59  3.61     No   Sun  Dinner     4\n",
       "..          ...   ...    ...   ...     ...   ...\n",
       "239       29.03  5.92     No   Sat  Dinner     3\n",
       "240       27.18  2.00    Yes   Sat  Dinner     2\n",
       "241       22.67  2.00    Yes   Sat  Dinner     2\n",
       "242       17.82  1.75     No   Sat  Dinner     2\n",
       "243       18.78  3.00     No  Thur  Dinner     2\n",
       "\n",
       "[244 rows x 6 columns]"
      ]
     },
     "execution_count": 628,
     "metadata": {},
     "output_type": "execute_result"
    }
   ],
   "source": [
    "#1a)\n",
    "#%%md Using Pandas to import the CSV file (Comma Seperated Values). \n",
    "#%%md Using this method to read this file (data.csv), which was generated by Excel.\n",
    "\n",
    "import pandas as pd\n",
    "dataset = pd.read_csv(\"data.csv\")\n",
    "\n",
    "dataset"
   ]
  },
  {
   "cell_type": "code",
   "execution_count": 629,
   "id": "b01b115d",
   "metadata": {},
   "outputs": [
    {
     "data": {
      "text/plain": [
       "pandas.core.frame.DataFrame"
      ]
     },
     "execution_count": 629,
     "metadata": {},
     "output_type": "execute_result"
    }
   ],
   "source": [
    "#1b)\n",
    "#%%md Exploring the dataset. \n",
    "#%%md Type function is useful if we get error messages, and to know what the type the objects are.\n",
    "#%%md This function shows us that it is a Pandas DataFrame object.\n",
    "\n",
    "type(dataset)"
   ]
  },
  {
   "cell_type": "code",
   "execution_count": 630,
   "id": "545df7ef",
   "metadata": {},
   "outputs": [
    {
     "data": {
      "text/html": [
       "<div>\n",
       "<style scoped>\n",
       "    .dataframe tbody tr th:only-of-type {\n",
       "        vertical-align: middle;\n",
       "    }\n",
       "\n",
       "    .dataframe tbody tr th {\n",
       "        vertical-align: top;\n",
       "    }\n",
       "\n",
       "    .dataframe thead th {\n",
       "        text-align: right;\n",
       "    }\n",
       "</style>\n",
       "<table border=\"1\" class=\"dataframe\">\n",
       "  <thead>\n",
       "    <tr style=\"text-align: right;\">\n",
       "      <th></th>\n",
       "      <th>total_bill</th>\n",
       "      <th>tip</th>\n",
       "      <th>smoker</th>\n",
       "      <th>day</th>\n",
       "      <th>time</th>\n",
       "      <th>size</th>\n",
       "    </tr>\n",
       "  </thead>\n",
       "  <tbody>\n",
       "    <tr>\n",
       "      <th>239</th>\n",
       "      <td>29.03</td>\n",
       "      <td>5.92</td>\n",
       "      <td>No</td>\n",
       "      <td>Sat</td>\n",
       "      <td>Dinner</td>\n",
       "      <td>3</td>\n",
       "    </tr>\n",
       "    <tr>\n",
       "      <th>240</th>\n",
       "      <td>27.18</td>\n",
       "      <td>2.00</td>\n",
       "      <td>Yes</td>\n",
       "      <td>Sat</td>\n",
       "      <td>Dinner</td>\n",
       "      <td>2</td>\n",
       "    </tr>\n",
       "    <tr>\n",
       "      <th>241</th>\n",
       "      <td>22.67</td>\n",
       "      <td>2.00</td>\n",
       "      <td>Yes</td>\n",
       "      <td>Sat</td>\n",
       "      <td>Dinner</td>\n",
       "      <td>2</td>\n",
       "    </tr>\n",
       "    <tr>\n",
       "      <th>242</th>\n",
       "      <td>17.82</td>\n",
       "      <td>1.75</td>\n",
       "      <td>No</td>\n",
       "      <td>Sat</td>\n",
       "      <td>Dinner</td>\n",
       "      <td>2</td>\n",
       "    </tr>\n",
       "    <tr>\n",
       "      <th>243</th>\n",
       "      <td>18.78</td>\n",
       "      <td>3.00</td>\n",
       "      <td>No</td>\n",
       "      <td>Thur</td>\n",
       "      <td>Dinner</td>\n",
       "      <td>2</td>\n",
       "    </tr>\n",
       "  </tbody>\n",
       "</table>\n",
       "</div>"
      ],
      "text/plain": [
       "     total_bill   tip smoker   day    time  size\n",
       "239       29.03  5.92     No   Sat  Dinner     3\n",
       "240       27.18  2.00    Yes   Sat  Dinner     2\n",
       "241       22.67  2.00    Yes   Sat  Dinner     2\n",
       "242       17.82  1.75     No   Sat  Dinner     2\n",
       "243       18.78  3.00     No  Thur  Dinner     2"
      ]
     },
     "execution_count": 630,
     "metadata": {},
     "output_type": "execute_result"
    }
   ],
   "source": [
    "#%%md Tail-function gives us the last five rows from the dataset.\n",
    "\n",
    "dataset.tail()"
   ]
  },
  {
   "cell_type": "code",
   "execution_count": 631,
   "id": "8a835d42",
   "metadata": {},
   "outputs": [
    {
     "data": {
      "text/html": [
       "<div>\n",
       "<style scoped>\n",
       "    .dataframe tbody tr th:only-of-type {\n",
       "        vertical-align: middle;\n",
       "    }\n",
       "\n",
       "    .dataframe tbody tr th {\n",
       "        vertical-align: top;\n",
       "    }\n",
       "\n",
       "    .dataframe thead th {\n",
       "        text-align: right;\n",
       "    }\n",
       "</style>\n",
       "<table border=\"1\" class=\"dataframe\">\n",
       "  <thead>\n",
       "    <tr style=\"text-align: right;\">\n",
       "      <th></th>\n",
       "      <th>total_bill</th>\n",
       "      <th>tip</th>\n",
       "      <th>smoker</th>\n",
       "      <th>day</th>\n",
       "      <th>time</th>\n",
       "      <th>size</th>\n",
       "    </tr>\n",
       "  </thead>\n",
       "  <tbody>\n",
       "    <tr>\n",
       "      <th>0</th>\n",
       "      <td>16.99</td>\n",
       "      <td>1.01</td>\n",
       "      <td>No</td>\n",
       "      <td>Sun</td>\n",
       "      <td>Dinner</td>\n",
       "      <td>2</td>\n",
       "    </tr>\n",
       "    <tr>\n",
       "      <th>1</th>\n",
       "      <td>10.34</td>\n",
       "      <td>1.66</td>\n",
       "      <td>No</td>\n",
       "      <td>Sun</td>\n",
       "      <td>Dinner</td>\n",
       "      <td>3</td>\n",
       "    </tr>\n",
       "    <tr>\n",
       "      <th>2</th>\n",
       "      <td>21.01</td>\n",
       "      <td>3.50</td>\n",
       "      <td>No</td>\n",
       "      <td>Sun</td>\n",
       "      <td>Dinner</td>\n",
       "      <td>3</td>\n",
       "    </tr>\n",
       "    <tr>\n",
       "      <th>3</th>\n",
       "      <td>23.68</td>\n",
       "      <td>3.31</td>\n",
       "      <td>No</td>\n",
       "      <td>Sun</td>\n",
       "      <td>Dinner</td>\n",
       "      <td>2</td>\n",
       "    </tr>\n",
       "    <tr>\n",
       "      <th>4</th>\n",
       "      <td>24.59</td>\n",
       "      <td>3.61</td>\n",
       "      <td>No</td>\n",
       "      <td>Sun</td>\n",
       "      <td>Dinner</td>\n",
       "      <td>4</td>\n",
       "    </tr>\n",
       "  </tbody>\n",
       "</table>\n",
       "</div>"
      ],
      "text/plain": [
       "   total_bill   tip smoker  day    time  size\n",
       "0       16.99  1.01     No  Sun  Dinner     2\n",
       "1       10.34  1.66     No  Sun  Dinner     3\n",
       "2       21.01  3.50     No  Sun  Dinner     3\n",
       "3       23.68  3.31     No  Sun  Dinner     2\n",
       "4       24.59  3.61     No  Sun  Dinner     4"
      ]
     },
     "execution_count": 631,
     "metadata": {},
     "output_type": "execute_result"
    }
   ],
   "source": [
    "#%%md Head-function gives us the five first rows from the dataset.\n",
    "\n",
    "dataset.head()"
   ]
  },
  {
   "cell_type": "code",
   "execution_count": 632,
   "id": "a173579b",
   "metadata": {},
   "outputs": [
    {
     "data": {
      "text/plain": [
       "(244, 6)"
      ]
     },
     "execution_count": 632,
     "metadata": {},
     "output_type": "execute_result"
    }
   ],
   "source": [
    "#%%md Shape-function gives us the number of rows and columns in the dataset. \n",
    "#%%md In this dataset it shows us it is 244 rows and 6 columns.\n",
    "\n",
    "dataset.shape\n"
   ]
  },
  {
   "cell_type": "code",
   "execution_count": 633,
   "id": "a6d0ac54",
   "metadata": {},
   "outputs": [
    {
     "data": {
      "text/plain": [
       "<bound method NDFrame.describe of      total_bill   tip smoker   day    time  size\n",
       "0         16.99  1.01     No   Sun  Dinner     2\n",
       "1         10.34  1.66     No   Sun  Dinner     3\n",
       "2         21.01  3.50     No   Sun  Dinner     3\n",
       "3         23.68  3.31     No   Sun  Dinner     2\n",
       "4         24.59  3.61     No   Sun  Dinner     4\n",
       "..          ...   ...    ...   ...     ...   ...\n",
       "239       29.03  5.92     No   Sat  Dinner     3\n",
       "240       27.18  2.00    Yes   Sat  Dinner     2\n",
       "241       22.67  2.00    Yes   Sat  Dinner     2\n",
       "242       17.82  1.75     No   Sat  Dinner     2\n",
       "243       18.78  3.00     No  Thur  Dinner     2\n",
       "\n",
       "[244 rows x 6 columns]>"
      ]
     },
     "execution_count": 633,
     "metadata": {},
     "output_type": "execute_result"
    }
   ],
   "source": [
    "\n",
    "#%%md Describe-function describes the statistics, summarize, and the shape of a datset excluding the NaN values.\n",
    "\n",
    "dataset.describe\n"
   ]
  },
  {
   "cell_type": "code",
   "execution_count": 634,
   "id": "040e95ac",
   "metadata": {},
   "outputs": [
    {
     "data": {
      "text/plain": [
       "total_bill    0\n",
       "tip           0\n",
       "smoker        0\n",
       "day           0\n",
       "time          0\n",
       "size          0\n",
       "dtype: int64"
      ]
     },
     "execution_count": 634,
     "metadata": {},
     "output_type": "execute_result"
    }
   ],
   "source": [
    "\n",
    "#%%md Isnull-function returns the number of missing values in the set.\n",
    "\n",
    "dataset.isnull().sum()\n"
   ]
  },
  {
   "cell_type": "code",
   "execution_count": 635,
   "id": "1a54d2a7",
   "metadata": {},
   "outputs": [
    {
     "name": "stdout",
     "output_type": "stream",
     "text": [
      "<class 'pandas.core.frame.DataFrame'>\n",
      "RangeIndex: 244 entries, 0 to 243\n",
      "Data columns (total 6 columns):\n",
      " #   Column      Non-Null Count  Dtype  \n",
      "---  ------      --------------  -----  \n",
      " 0   total_bill  244 non-null    float64\n",
      " 1   tip         244 non-null    float64\n",
      " 2   smoker      244 non-null    object \n",
      " 3   day         244 non-null    object \n",
      " 4   time        244 non-null    object \n",
      " 5   size        244 non-null    int64  \n",
      "dtypes: float64(2), int64(1), object(3)\n",
      "memory usage: 11.6+ KB\n"
     ]
    }
   ],
   "source": [
    "\n",
    "#%%md Info function gives us the information of the DataFrame. The first row describes type, which is a DataFrame.\n",
    "#%%md Next row describes it is 244 rows, and there is labled to 0 to 243, which is the index.\n",
    "#%%md Next row describes it is 6 columns, and on the left side shows us the column name. \n",
    "#%%md In the center it describes there is non-null objects, which means thats there is no missing data in this set.\n",
    "#%%md The right side describes type of the information store in that column. \n",
    "#%%md For example object means regular string object.\n",
    "\n",
    "dataset.info()\n"
   ]
  },
  {
   "cell_type": "code",
   "execution_count": 636,
   "id": "66016d42",
   "metadata": {},
   "outputs": [
    {
     "data": {
      "text/plain": [
       "['total_bill', 'tip', 'smoker', 'day', 'time', 'size']"
      ]
     },
     "execution_count": 636,
     "metadata": {},
     "output_type": "execute_result"
    }
   ],
   "source": [
    "\n",
    "#%%md The names of the columns from the dataset. \n",
    "\n",
    "dataset.columns.tolist()\n"
   ]
  },
  {
   "cell_type": "code",
   "execution_count": 637,
   "id": "9ecdc80b",
   "metadata": {},
   "outputs": [
    {
     "data": {
      "text/plain": [
       "total_bill    50.81\n",
       "tip            10.0\n",
       "smoker          Yes\n",
       "day            Thur\n",
       "time          Lunch\n",
       "size              6\n",
       "dtype: object"
      ]
     },
     "execution_count": 637,
     "metadata": {},
     "output_type": "execute_result"
    }
   ],
   "source": [
    "\n",
    "#%%md Max-function describes when this restaurant earned the most from the dataset.\n",
    "#%%md In this case, it shows us total bill was on 50.81. The tip was on 10. \n",
    "#%%md They were smokers, and it was on a Thursday lunch time, and total guests at 6.\n",
    "\n",
    "dataset.max()\n"
   ]
  },
  {
   "cell_type": "code",
   "execution_count": 638,
   "id": "af016d9c",
   "metadata": {},
   "outputs": [
    {
     "data": {
      "text/plain": [
       "total_bill      3.07\n",
       "tip              1.0\n",
       "smoker            No\n",
       "day              Fri\n",
       "time          Dinner\n",
       "size               1\n",
       "dtype: object"
      ]
     },
     "execution_count": 638,
     "metadata": {},
     "output_type": "execute_result"
    }
   ],
   "source": [
    "\n",
    "#%%md Min-function describes when the resturant earned least from the dataset.\n",
    "#%%md The total bill was on 3.07, and it was only one guest (non smoker) who gave 1.0 tip.\n",
    "#%%md It was on a Friday at dinner time. \n",
    "\n",
    "dataset.min()\n"
   ]
  },
  {
   "cell_type": "code",
   "execution_count": 639,
   "id": "0e417a6a",
   "metadata": {},
   "outputs": [
    {
     "data": {
      "text/plain": [
       "'Sun'"
      ]
     },
     "execution_count": 639,
     "metadata": {},
     "output_type": "execute_result"
    }
   ],
   "source": [
    "\n",
    "#%%md Using Dataset.loc function to find out which day the dataset got most tip.\n",
    "#%%md In this case it was on a Sunday\n",
    "\n",
    "dataset.loc[dataset.tip.max(), 'day']\n"
   ]
  },
  {
   "cell_type": "code",
   "execution_count": 652,
   "id": "177c2ccf",
   "metadata": {},
   "outputs": [
    {
     "data": {
      "text/plain": [
       "2"
      ]
     },
     "execution_count": 652,
     "metadata": {},
     "output_type": "execute_result"
    }
   ],
   "source": [
    "\n",
    "#%%md Using loc function to find the specified feature in the dataset.\n",
    "\n",
    "dataset.loc[dataset.tip.max(), 'size']\n"
   ]
  },
  {
   "cell_type": "code",
   "execution_count": 654,
   "id": "b6032bde",
   "metadata": {},
   "outputs": [
    {
     "data": {
      "text/plain": [
       "<seaborn.axisgrid.FacetGrid at 0x1f9b058f250>"
      ]
     },
     "execution_count": 654,
     "metadata": {},
     "output_type": "execute_result"
    },
    {
     "data": {
      "image/png": "[encoded data removed]",
      "text/plain": [
       "<Figure size 360x360 with 1 Axes>"
      ]
     },
     "metadata": {
      "needs_background": "light"
     },
     "output_type": "display_data"
    }
   ],
   "source": [
    "\n",
    "#%%md Plotting the distrubution of the tip from the dataset. \n",
    "#%%md From the image under, you can see the most tips given by the customers.\n",
    "#%%md It is between the range of 2 and 4.\n",
    "\n",
    "sns.displot(dataset['tip'])\n"
   ]
  },
  {
   "cell_type": "code",
   "execution_count": 615,
   "id": "1f4c7d8b",
   "metadata": {},
   "outputs": [
    {
     "name": "stdout",
     "output_type": "stream",
     "text": [
      "\n",
      "CSV Dataset afer deleting the column 'smoker':\n",
      "\n",
      "     total_bill   tip   day    time  size\n",
      "0         16.99  1.01   Sun  Dinner     2\n",
      "1         10.34  1.66   Sun  Dinner     3\n",
      "2         21.01  3.50   Sun  Dinner     3\n",
      "3         23.68  3.31   Sun  Dinner     2\n",
      "4         24.59  3.61   Sun  Dinner     4\n",
      "..          ...   ...   ...     ...   ...\n",
      "239       29.03  5.92   Sat  Dinner     3\n",
      "240       27.18  2.00   Sat  Dinner     2\n",
      "241       22.67  2.00   Sat  Dinner     2\n",
      "242       17.82  1.75   Sat  Dinner     2\n",
      "243       18.78  3.00  Thur  Dinner     2\n",
      "\n",
      "[244 rows x 5 columns]\n"
     ]
    }
   ],
   "source": [
    "#1c)\n",
    "\n",
    "#%%md Data cleaning the column \"smoker\" from the set. \n",
    "#%%md I chose to clean this column because it does not gives any value for the restaurant.\n",
    "#%%md The guest has no impact on their business if he/she is a smoker or not. \n",
    "\n",
    "dataset.drop('smoker', inplace=True, axis=1)\n",
    "\n",
    "print(\"\\nCSV Dataset afer deleting the column 'smoker':\\n\")\n",
    "print(dataset)"
   ]
  },
  {
   "cell_type": "code",
   "execution_count": 616,
   "id": "2741fe47",
   "metadata": {},
   "outputs": [
    {
     "data": {
      "text/plain": [
       "<AxesSubplot:xlabel='day', ylabel='total_bill'>"
      ]
     },
     "execution_count": 616,
     "metadata": {},
     "output_type": "execute_result"
    },
    {
     "data": {
      "image/png": "[encoded data removed]",
      "text/plain": [
       "<Figure size 432x288 with 1 Axes>"
      ]
     },
     "metadata": {
      "needs_background": "light"
     },
     "output_type": "display_data"
    }
   ],
   "source": [
    "#1d) \n",
    "#%%md Using sns.lineplot to illustrate and visualize which day the dataset got most out from total_bill\n",
    "#%%md This supports my data from task 1b), where im using dataset.max function.\n",
    "#%%md Which is on Thursday.\n",
    "\n",
    "sns.lineplot(x='day', y='total_bill', data=dataset, color='teal')\n"
   ]
  },
  {
   "cell_type": "code",
   "execution_count": 617,
   "id": "c24306fa",
   "metadata": {},
   "outputs": [
    {
     "data": {
      "text/plain": [
       "<AxesSubplot:xlabel='day', ylabel='tip'>"
      ]
     },
     "execution_count": 617,
     "metadata": {},
     "output_type": "execute_result"
    },
    {
     "data": {
      "image/png": "[encoded data removed]",
      "text/plain": [
       "<Figure size 432x288 with 1 Axes>"
      ]
     },
     "metadata": {
      "needs_background": "light"
     },
     "output_type": "display_data"
    }
   ],
   "source": [
    "#%%md Using sns.barplot fuction to illustrate and visualize which day the dataset got most the highest tip\n",
    "#%%md it supports my data from 1b), which was on a Sunday.\n",
    "\n",
    "sns.barplot(x='day', y='tip', data = dataset)\n"
   ]
  },
  {
   "cell_type": "code",
   "execution_count": 648,
   "id": "567daebe",
   "metadata": {},
   "outputs": [
    {
     "data": {
      "text/plain": [
       "<AxesSubplot:xlabel='size', ylabel='tip'>"
      ]
     },
     "execution_count": 648,
     "metadata": {},
     "output_type": "execute_result"
    },
    {
     "data": {
      "image/png": "[encoded data removed]",
      "text/plain": [
       "<Figure size 432x288 with 1 Axes>"
      ]
     },
     "metadata": {
      "needs_background": "light"
     },
     "output_type": "display_data"
    }
   ],
   "source": [
    "#%%md Using sns.barplot function to illustrate and visualize which size of the group who gave most tip\n",
    "#%% It supports my data from 1b)that it was by size of 6.\n",
    "\n",
    "sns.barplot(x='size', y='tip', data = dataset)\n"
   ]
  },
  {
   "cell_type": "code",
   "execution_count": 495,
   "id": "5f960caa",
   "metadata": {},
   "outputs": [
    {
     "data": {
      "text/plain": [
       "Hospital Name                             Oslo University Hospital\n",
       "Location                                                      Oslo\n",
       "District                                                     Tosen\n",
       "Campus           Rikshospitalet, Ullevål, Aker and Radiumhospit...\n",
       "Employees                                                   24 000\n",
       "Opened                                                        1756\n",
       "Beds                                                          1870\n",
       "dtype: object"
      ]
     },
     "execution_count": 495,
     "metadata": {},
     "output_type": "execute_result"
    }
   ],
   "source": [
    "#2a) \n",
    "#%%md Creating a series from Pandas to show information on Oslo University Hospital.\n",
    "#%%md I included the \"Hospital Name\", \"Location\", \"District\", \"Campus\", \"Employees\", \"Opened\", and \"Beds\".\n",
    "\n",
    "import pandas as pd\n",
    "univ_hospital = pd.Series(['Oslo University Hospital', 'Oslo', 'Tosen','Rikshospitalet, Ullevål, Aker and Radiumhospitalet', '24 000', '1756', '1870'], index = ['Hospital Name', 'Location', 'District', 'Campus', 'Employees', 'Opened', 'Beds'])\n",
    "univ_hospital"
   ]
  },
  {
   "cell_type": "code",
   "execution_count": 457,
   "id": "86e7a928",
   "metadata": {},
   "outputs": [
    {
     "data": {
      "text/html": [
       "<div>\n",
       "<style scoped>\n",
       "    .dataframe tbody tr th:only-of-type {\n",
       "        vertical-align: middle;\n",
       "    }\n",
       "\n",
       "    .dataframe tbody tr th {\n",
       "        vertical-align: top;\n",
       "    }\n",
       "\n",
       "    .dataframe thead th {\n",
       "        text-align: right;\n",
       "    }\n",
       "</style>\n",
       "<table border=\"1\" class=\"dataframe\">\n",
       "  <thead>\n",
       "    <tr style=\"text-align: right;\">\n",
       "      <th></th>\n",
       "      <th>Hospital Name</th>\n",
       "      <th>County</th>\n",
       "      <th>Adress</th>\n",
       "      <th>Opened</th>\n",
       "    </tr>\n",
       "  </thead>\n",
       "  <tbody>\n",
       "    <tr>\n",
       "      <th>0</th>\n",
       "      <td>Molde Hospital</td>\n",
       "      <td>Møre og Romsdal</td>\n",
       "      <td>Parkvegen 84</td>\n",
       "      <td>1960</td>\n",
       "    </tr>\n",
       "    <tr>\n",
       "      <th>1</th>\n",
       "      <td>Ålesund Hospital</td>\n",
       "      <td>Møre og Romsdal</td>\n",
       "      <td>Åsehaugen 5</td>\n",
       "      <td>1971</td>\n",
       "    </tr>\n",
       "    <tr>\n",
       "      <th>2</th>\n",
       "      <td>Levanger Hospital</td>\n",
       "      <td>Nord-Trøndelag</td>\n",
       "      <td>Kirkegata 2</td>\n",
       "      <td>1843</td>\n",
       "    </tr>\n",
       "    <tr>\n",
       "      <th>3</th>\n",
       "      <td>St.Olavs Hospital</td>\n",
       "      <td>Trøndelag</td>\n",
       "      <td>Prinsesse Kristinas gate 3</td>\n",
       "      <td>1902</td>\n",
       "    </tr>\n",
       "    <tr>\n",
       "      <th>4</th>\n",
       "      <td>Røros Hospital</td>\n",
       "      <td>Trøndelag</td>\n",
       "      <td>Henrik Grønns vei 24</td>\n",
       "      <td>1935</td>\n",
       "    </tr>\n",
       "    <tr>\n",
       "      <th>5</th>\n",
       "      <td>Kirkenes Hospital</td>\n",
       "      <td>Troms og Finnmark</td>\n",
       "      <td>Skytterhusveien</td>\n",
       "      <td>2018</td>\n",
       "    </tr>\n",
       "    <tr>\n",
       "      <th>6</th>\n",
       "      <td>Hamar Hospital</td>\n",
       "      <td>Innlandet</td>\n",
       "      <td>Skolegata 32</td>\n",
       "      <td>1925</td>\n",
       "    </tr>\n",
       "    <tr>\n",
       "      <th>7</th>\n",
       "      <td>Drammen Hospital</td>\n",
       "      <td>Viken</td>\n",
       "      <td>Dronningata 28</td>\n",
       "      <td>1887</td>\n",
       "    </tr>\n",
       "    <tr>\n",
       "      <th>8</th>\n",
       "      <td>Haukeland University Hospital</td>\n",
       "      <td>Vestland</td>\n",
       "      <td>Jonas Lies vei 65</td>\n",
       "      <td>1912</td>\n",
       "    </tr>\n",
       "    <tr>\n",
       "      <th>9</th>\n",
       "      <td>Sandviken Hospital</td>\n",
       "      <td>Vestland</td>\n",
       "      <td>Sandviksleitet 1</td>\n",
       "      <td>1891</td>\n",
       "    </tr>\n",
       "    <tr>\n",
       "      <th>10</th>\n",
       "      <td>Stavanger University Hospital</td>\n",
       "      <td>Rogaland</td>\n",
       "      <td>Gerd-Ragna Bloch Thorsens gate 8</td>\n",
       "      <td>1927</td>\n",
       "    </tr>\n",
       "    <tr>\n",
       "      <th>11</th>\n",
       "      <td>Ullevål University Hospital</td>\n",
       "      <td>Oslo</td>\n",
       "      <td>Kirkeveien 166</td>\n",
       "      <td>1887</td>\n",
       "    </tr>\n",
       "    <tr>\n",
       "      <th>12</th>\n",
       "      <td>Lillehammer Hospital</td>\n",
       "      <td>Innlandet</td>\n",
       "      <td>Anders Sandvigs gate 17</td>\n",
       "      <td>1878</td>\n",
       "    </tr>\n",
       "    <tr>\n",
       "      <th>13</th>\n",
       "      <td>Namsos Hospital</td>\n",
       "      <td>Nord-Trøndelag</td>\n",
       "      <td>Havikvegen 8</td>\n",
       "      <td>1848</td>\n",
       "    </tr>\n",
       "    <tr>\n",
       "      <th>14</th>\n",
       "      <td>Akershus University Hospital</td>\n",
       "      <td>Oslo</td>\n",
       "      <td>Sykehusveien 25</td>\n",
       "      <td>1961</td>\n",
       "    </tr>\n",
       "    <tr>\n",
       "      <th>15</th>\n",
       "      <td>Førde Hospital Trust</td>\n",
       "      <td>Vestland</td>\n",
       "      <td>Svanehaugvegen 2</td>\n",
       "      <td>1979</td>\n",
       "    </tr>\n",
       "  </tbody>\n",
       "</table>\n",
       "</div>"
      ],
      "text/plain": [
       "                    Hospital Name             County  \\\n",
       "0                  Molde Hospital    Møre og Romsdal   \n",
       "1                Ålesund Hospital    Møre og Romsdal   \n",
       "2               Levanger Hospital     Nord-Trøndelag   \n",
       "3               St.Olavs Hospital          Trøndelag   \n",
       "4                  Røros Hospital          Trøndelag   \n",
       "5               Kirkenes Hospital  Troms og Finnmark   \n",
       "6                  Hamar Hospital          Innlandet   \n",
       "7                Drammen Hospital              Viken   \n",
       "8   Haukeland University Hospital           Vestland   \n",
       "9              Sandviken Hospital           Vestland   \n",
       "10  Stavanger University Hospital           Rogaland   \n",
       "11    Ullevål University Hospital               Oslo   \n",
       "12           Lillehammer Hospital          Innlandet   \n",
       "13                Namsos Hospital     Nord-Trøndelag   \n",
       "14   Akershus University Hospital               Oslo   \n",
       "15           Førde Hospital Trust           Vestland   \n",
       "\n",
       "                              Adress Opened  \n",
       "0                       Parkvegen 84   1960  \n",
       "1                        Åsehaugen 5   1971  \n",
       "2                        Kirkegata 2   1843  \n",
       "3         Prinsesse Kristinas gate 3   1902  \n",
       "4               Henrik Grønns vei 24   1935  \n",
       "5                    Skytterhusveien   2018  \n",
       "6                       Skolegata 32   1925  \n",
       "7                     Dronningata 28   1887  \n",
       "8                  Jonas Lies vei 65   1912  \n",
       "9                   Sandviksleitet 1   1891  \n",
       "10  Gerd-Ragna Bloch Thorsens gate 8   1927  \n",
       "11                    Kirkeveien 166   1887  \n",
       "12           Anders Sandvigs gate 17   1878  \n",
       "13                      Havikvegen 8   1848  \n",
       "14                   Sykehusveien 25   1961  \n",
       "15                  Svanehaugvegen 2   1979  "
      ]
     },
     "execution_count": 457,
     "metadata": {},
     "output_type": "execute_result"
    }
   ],
   "source": [
    "#2b)\n",
    "#%%md Chose 16 hospitals from the list and creating a Series.\n",
    "#%%md Included \"Hospital Name\", \"County\", \"Adress\", and \"Opened\" to have information about each hospital.\n",
    "\n",
    "Hospital = {\n",
    "    \"Hospital Name\": [\"Molde Hospital\", \"Ålesund Hospital\", \"Levanger Hospital\", \"St.Olavs Hospital\", \"Røros Hospital\", \"Kirkenes Hospital\", \"Hamar Hospital\", \"Drammen Hospital\", \"Haukeland University Hospital\", \"Sandviken Hospital\", \"Stavanger University Hospital\", \"Ullevål University Hospital\", \"Lillehammer Hospital\", \"Namsos Hospital\", \"Akershus University Hospital\", \"Førde Hospital Trust\"],\n",
    "    \"County\": [\"Møre og Romsdal\", \"Møre og Romsdal\", \"Nord-Trøndelag\", \"Trøndelag\", \"Trøndelag\", \"Troms og Finnmark\", \"Innlandet\", \"Viken\", \"Vestland\", \"Vestland\", \"Rogaland\", \"Oslo\", \"Innlandet\", \"Nord-Trøndelag\", \"Oslo\", \"Vestland\"],\n",
    "    \"Adress\": [\"Parkvegen 84\", \"Åsehaugen 5\", \"Kirkegata 2\", \"Prinsesse Kristinas gate 3\", \"Henrik Grønns vei 24\", \"Skytterhusveien\", \"Skolegata 32\", \"Dronningata 28\", \"Jonas Lies vei 65\", \"Sandviksleitet 1\", \"Gerd-Ragna Bloch Thorsens gate 8\", \"Kirkeveien 166\", \"Anders Sandvigs gate 17\", \"Havikvegen 8\", \"Sykehusveien 25\", \"Svanehaugvegen 2\"],\n",
    "    \"Opened\": [\"1960\", \"1971\", \"1843\", \"1902\", \"1935\", \"2018\", \"1925\", \"1887\", \"1912\", \"1891\", \"1927\", \"1887\", \"1878\", \"1848\", \"1961\", \"1979\"]\n",
    "}\n",
    "\n",
    "#2c)\n",
    "#%%md Creating a DataFrame from the Series from task b). \n",
    "\n",
    "df = pd.DataFrame(Hospital)\n",
    "df\n"
   ]
  },
  {
   "cell_type": "code",
   "execution_count": 463,
   "id": "f684f3ba",
   "metadata": {},
   "outputs": [
    {
     "data": {
      "text/html": [
       "<div>\n",
       "<style scoped>\n",
       "    .dataframe tbody tr th:only-of-type {\n",
       "        vertical-align: middle;\n",
       "    }\n",
       "\n",
       "    .dataframe tbody tr th {\n",
       "        vertical-align: top;\n",
       "    }\n",
       "\n",
       "    .dataframe thead th {\n",
       "        text-align: right;\n",
       "    }\n",
       "</style>\n",
       "<table border=\"1\" class=\"dataframe\">\n",
       "  <thead>\n",
       "    <tr style=\"text-align: right;\">\n",
       "      <th></th>\n",
       "      <th>Hospital Name</th>\n",
       "      <th>County</th>\n",
       "      <th>Adress</th>\n",
       "      <th>Opened</th>\n",
       "      <th>Regional Health Authority</th>\n",
       "    </tr>\n",
       "  </thead>\n",
       "  <tbody>\n",
       "    <tr>\n",
       "      <th>0</th>\n",
       "      <td>Molde Hospital</td>\n",
       "      <td>Møre og Romsdal</td>\n",
       "      <td>Parkvegen 84</td>\n",
       "      <td>1960</td>\n",
       "      <td>Central Norway Regional Health Authority</td>\n",
       "    </tr>\n",
       "    <tr>\n",
       "      <th>1</th>\n",
       "      <td>Ålesund Hospital</td>\n",
       "      <td>Møre og Romsdal</td>\n",
       "      <td>Åsehaugen 5</td>\n",
       "      <td>1971</td>\n",
       "      <td>Central Norway Regional Health Authority</td>\n",
       "    </tr>\n",
       "    <tr>\n",
       "      <th>2</th>\n",
       "      <td>Levanger Hospital</td>\n",
       "      <td>Nord-Trøndelag</td>\n",
       "      <td>Kirkegata 2</td>\n",
       "      <td>1843</td>\n",
       "      <td>Central Norway Regional Health Authority</td>\n",
       "    </tr>\n",
       "    <tr>\n",
       "      <th>3</th>\n",
       "      <td>St.Olavs Hospital</td>\n",
       "      <td>Trøndelag</td>\n",
       "      <td>Prinsesse Kristinas gate 3</td>\n",
       "      <td>1902</td>\n",
       "      <td>Central Norway Regional Health Authority</td>\n",
       "    </tr>\n",
       "    <tr>\n",
       "      <th>4</th>\n",
       "      <td>Røros Hospital</td>\n",
       "      <td>Trøndelag</td>\n",
       "      <td>Henrik Grønns vei 24</td>\n",
       "      <td>1935</td>\n",
       "      <td>Central Norway Regional Health Authority</td>\n",
       "    </tr>\n",
       "    <tr>\n",
       "      <th>5</th>\n",
       "      <td>Kirkenes Hospital</td>\n",
       "      <td>Troms og Finnmark</td>\n",
       "      <td>Skytterhusveien</td>\n",
       "      <td>2018</td>\n",
       "      <td>Northern Norway Regional Health Authority</td>\n",
       "    </tr>\n",
       "    <tr>\n",
       "      <th>6</th>\n",
       "      <td>Hamar Hospital</td>\n",
       "      <td>Innlandet</td>\n",
       "      <td>Skolegata 32</td>\n",
       "      <td>1925</td>\n",
       "      <td>Southern and Eastern Norway Regional Health Au...</td>\n",
       "    </tr>\n",
       "    <tr>\n",
       "      <th>7</th>\n",
       "      <td>Drammen Hospital</td>\n",
       "      <td>Viken</td>\n",
       "      <td>Dronningata 28</td>\n",
       "      <td>1887</td>\n",
       "      <td>Southern and Eastern Norway Regional Health Au...</td>\n",
       "    </tr>\n",
       "    <tr>\n",
       "      <th>8</th>\n",
       "      <td>Haukeland University Hospital</td>\n",
       "      <td>Vestland</td>\n",
       "      <td>Jonas Lies vei 65</td>\n",
       "      <td>1912</td>\n",
       "      <td>Western Norway Regional Health Authority</td>\n",
       "    </tr>\n",
       "    <tr>\n",
       "      <th>9</th>\n",
       "      <td>Sandviken Hospital</td>\n",
       "      <td>Vestland</td>\n",
       "      <td>Sandviksleitet 1</td>\n",
       "      <td>1891</td>\n",
       "      <td>Western Norway Regional Health Authority</td>\n",
       "    </tr>\n",
       "    <tr>\n",
       "      <th>10</th>\n",
       "      <td>Stavanger University Hospital</td>\n",
       "      <td>Rogaland</td>\n",
       "      <td>Gerd-Ragna Bloch Thorsens gate 8</td>\n",
       "      <td>1927</td>\n",
       "      <td>Western Norway Regional Health Authority</td>\n",
       "    </tr>\n",
       "    <tr>\n",
       "      <th>11</th>\n",
       "      <td>Ullevål University Hospital</td>\n",
       "      <td>Oslo</td>\n",
       "      <td>Kirkeveien 166</td>\n",
       "      <td>1887</td>\n",
       "      <td>Southern and Eastern Norway Regional Health Au...</td>\n",
       "    </tr>\n",
       "    <tr>\n",
       "      <th>12</th>\n",
       "      <td>Lillehammer Hospital</td>\n",
       "      <td>Innlandet</td>\n",
       "      <td>Anders Sandvigs gate 17</td>\n",
       "      <td>1878</td>\n",
       "      <td>Southern and Eastern Norway Regional Health Au...</td>\n",
       "    </tr>\n",
       "    <tr>\n",
       "      <th>13</th>\n",
       "      <td>Namsos Hospital</td>\n",
       "      <td>Nord-Trøndelag</td>\n",
       "      <td>Havikvegen 8</td>\n",
       "      <td>1848</td>\n",
       "      <td>Central Norway Regional Health Authority</td>\n",
       "    </tr>\n",
       "    <tr>\n",
       "      <th>14</th>\n",
       "      <td>Akershus University Hospital</td>\n",
       "      <td>Oslo</td>\n",
       "      <td>Sykehusveien 25</td>\n",
       "      <td>1961</td>\n",
       "      <td>Southern and Eastern Norway Regional Health Au...</td>\n",
       "    </tr>\n",
       "    <tr>\n",
       "      <th>15</th>\n",
       "      <td>Førde Hospital Trust</td>\n",
       "      <td>Vestland</td>\n",
       "      <td>Svanehaugvegen 2</td>\n",
       "      <td>1979</td>\n",
       "      <td>Western Norway Regional Health Authority</td>\n",
       "    </tr>\n",
       "  </tbody>\n",
       "</table>\n",
       "</div>"
      ],
      "text/plain": [
       "                    Hospital Name             County  \\\n",
       "0                  Molde Hospital    Møre og Romsdal   \n",
       "1                Ålesund Hospital    Møre og Romsdal   \n",
       "2               Levanger Hospital     Nord-Trøndelag   \n",
       "3               St.Olavs Hospital          Trøndelag   \n",
       "4                  Røros Hospital          Trøndelag   \n",
       "5               Kirkenes Hospital  Troms og Finnmark   \n",
       "6                  Hamar Hospital          Innlandet   \n",
       "7                Drammen Hospital              Viken   \n",
       "8   Haukeland University Hospital           Vestland   \n",
       "9              Sandviken Hospital           Vestland   \n",
       "10  Stavanger University Hospital           Rogaland   \n",
       "11    Ullevål University Hospital               Oslo   \n",
       "12           Lillehammer Hospital          Innlandet   \n",
       "13                Namsos Hospital     Nord-Trøndelag   \n",
       "14   Akershus University Hospital               Oslo   \n",
       "15           Førde Hospital Trust           Vestland   \n",
       "\n",
       "                              Adress Opened  \\\n",
       "0                       Parkvegen 84   1960   \n",
       "1                        Åsehaugen 5   1971   \n",
       "2                        Kirkegata 2   1843   \n",
       "3         Prinsesse Kristinas gate 3   1902   \n",
       "4               Henrik Grønns vei 24   1935   \n",
       "5                    Skytterhusveien   2018   \n",
       "6                       Skolegata 32   1925   \n",
       "7                     Dronningata 28   1887   \n",
       "8                  Jonas Lies vei 65   1912   \n",
       "9                   Sandviksleitet 1   1891   \n",
       "10  Gerd-Ragna Bloch Thorsens gate 8   1927   \n",
       "11                    Kirkeveien 166   1887   \n",
       "12           Anders Sandvigs gate 17   1878   \n",
       "13                      Havikvegen 8   1848   \n",
       "14                   Sykehusveien 25   1961   \n",
       "15                  Svanehaugvegen 2   1979   \n",
       "\n",
       "                            Regional Health Authority  \n",
       "0            Central Norway Regional Health Authority  \n",
       "1            Central Norway Regional Health Authority  \n",
       "2            Central Norway Regional Health Authority  \n",
       "3            Central Norway Regional Health Authority  \n",
       "4            Central Norway Regional Health Authority  \n",
       "5           Northern Norway Regional Health Authority  \n",
       "6   Southern and Eastern Norway Regional Health Au...  \n",
       "7   Southern and Eastern Norway Regional Health Au...  \n",
       "8            Western Norway Regional Health Authority  \n",
       "9            Western Norway Regional Health Authority  \n",
       "10           Western Norway Regional Health Authority  \n",
       "11  Southern and Eastern Norway Regional Health Au...  \n",
       "12  Southern and Eastern Norway Regional Health Au...  \n",
       "13           Central Norway Regional Health Authority  \n",
       "14  Southern and Eastern Norway Regional Health Au...  \n",
       "15           Western Norway Regional Health Authority  "
      ]
     },
     "execution_count": 463,
     "metadata": {},
     "output_type": "execute_result"
    }
   ],
   "source": [
    "#2d)\n",
    "#%%md Generates \"Regional Health Authority\" in the DataFrame dictionary to add a another column in the Series.\n",
    "df[\"Regional Health Authority\"] = [\"Central Norway Regional Health Authority\", \"Central Norway Regional Health Authority\", \"Central Norway Regional Health Authority\", \"Central Norway Regional Health Authority\", \"Central Norway Regional Health Authority\", \"Northern Norway Regional Health Authority\", \"Southern and Eastern Norway Regional Health Authority\", \"Southern and Eastern Norway Regional Health Authority\", \"Western Norway Regional Health Authority\", \"Western Norway Regional Health Authority\", \"Western Norway Regional Health Authority\", \"Southern and Eastern Norway Regional Health Authority\", \"Southern and Eastern Norway Regional Health Authority\", \"Central Norway Regional Health Authority\", \"Southern and Eastern Norway Regional Health Authority\", \"Western Norway Regional Health Authority\"]\n",
    "\n",
    "df"
   ]
  },
  {
   "cell_type": "code",
   "execution_count": null,
   "id": "f194750f",
   "metadata": {},
   "outputs": [],
   "source": [
    "#3)\n",
    "\n",
    "#%%md My opening question is:\n",
    "#%%md \"Which Regional Health Authority has the most hospitals, and does it support by amount of population?\"\n",
    "#%%md I will also show when the hospitals opened and find the developement of amount of hospital to support my data.\n",
    "##%%md Only working on hospitals I chose from task 2)."
   ]
  },
  {
   "cell_type": "code",
   "execution_count": 464,
   "id": "6f8c0b21",
   "metadata": {},
   "outputs": [
    {
     "data": {
      "text/html": [
       "<div>\n",
       "<style scoped>\n",
       "    .dataframe tbody tr th:only-of-type {\n",
       "        vertical-align: middle;\n",
       "    }\n",
       "\n",
       "    .dataframe tbody tr th {\n",
       "        vertical-align: top;\n",
       "    }\n",
       "\n",
       "    .dataframe thead th {\n",
       "        text-align: right;\n",
       "    }\n",
       "</style>\n",
       "<table border=\"1\" class=\"dataframe\">\n",
       "  <thead>\n",
       "    <tr style=\"text-align: right;\">\n",
       "      <th></th>\n",
       "      <th>Hospital_Name</th>\n",
       "      <th>Opened</th>\n",
       "      <th>County</th>\n",
       "      <th>Adress</th>\n",
       "      <th>Regional_Health_Authority</th>\n",
       "    </tr>\n",
       "  </thead>\n",
       "  <tbody>\n",
       "    <tr>\n",
       "      <th>0</th>\n",
       "      <td>Levanger Hospital</td>\n",
       "      <td>1843</td>\n",
       "      <td>Nord-Trøndelag</td>\n",
       "      <td>Kirkegata 2</td>\n",
       "      <td>Central Norway Regional Health Authority</td>\n",
       "    </tr>\n",
       "    <tr>\n",
       "      <th>1</th>\n",
       "      <td>Namsos Hospital</td>\n",
       "      <td>1848</td>\n",
       "      <td>Nord-Trøndelag</td>\n",
       "      <td>Havikvegen 8</td>\n",
       "      <td>Central Norway Regional Health Authority</td>\n",
       "    </tr>\n",
       "    <tr>\n",
       "      <th>2</th>\n",
       "      <td>Lillehammer Hospital</td>\n",
       "      <td>1878</td>\n",
       "      <td>Innlandet</td>\n",
       "      <td>Anders Sandvigs gate 17</td>\n",
       "      <td>Southern and Eastern Norway Regional Health Au...</td>\n",
       "    </tr>\n",
       "    <tr>\n",
       "      <th>3</th>\n",
       "      <td>Drammen Hospital</td>\n",
       "      <td>1887</td>\n",
       "      <td>Viken</td>\n",
       "      <td>Dronninggata 28</td>\n",
       "      <td>Southern and Eastern Norway Regional Health Au...</td>\n",
       "    </tr>\n",
       "    <tr>\n",
       "      <th>4</th>\n",
       "      <td>Ullevål University Hospital</td>\n",
       "      <td>1887</td>\n",
       "      <td>Oslo</td>\n",
       "      <td>Kirkeveien 166</td>\n",
       "      <td>Southern and Eastern Norway Regional Health Au...</td>\n",
       "    </tr>\n",
       "    <tr>\n",
       "      <th>5</th>\n",
       "      <td>Sandviken Hospital</td>\n",
       "      <td>1891</td>\n",
       "      <td>Vestland</td>\n",
       "      <td>Sandviksleitet 1</td>\n",
       "      <td>Western Norway Regional Health Authority</td>\n",
       "    </tr>\n",
       "    <tr>\n",
       "      <th>6</th>\n",
       "      <td>St.Olavs Hospital</td>\n",
       "      <td>1902</td>\n",
       "      <td>Trøndelag</td>\n",
       "      <td>Prinsesse Kristinas gate 3</td>\n",
       "      <td>Central Norway Regional Health Authority</td>\n",
       "    </tr>\n",
       "    <tr>\n",
       "      <th>7</th>\n",
       "      <td>Haukeland University Hospital</td>\n",
       "      <td>1912</td>\n",
       "      <td>Vestland</td>\n",
       "      <td>Jonas Lies veit 65</td>\n",
       "      <td>Western Norway Regional Health Authority</td>\n",
       "    </tr>\n",
       "    <tr>\n",
       "      <th>8</th>\n",
       "      <td>Hamar Hospital</td>\n",
       "      <td>1925</td>\n",
       "      <td>Innlandet</td>\n",
       "      <td>Skolegata 32</td>\n",
       "      <td>Southern and Eastern Norway Regional Health Au...</td>\n",
       "    </tr>\n",
       "    <tr>\n",
       "      <th>9</th>\n",
       "      <td>Stavanger University Hospital</td>\n",
       "      <td>1927</td>\n",
       "      <td>Rogaland</td>\n",
       "      <td>Gerd-Ragna Bloch Thorsens gate 8</td>\n",
       "      <td>Western Norway Regional Health Authority</td>\n",
       "    </tr>\n",
       "    <tr>\n",
       "      <th>10</th>\n",
       "      <td>Røros Hospital</td>\n",
       "      <td>1935</td>\n",
       "      <td>Trøndelag</td>\n",
       "      <td>Henrik Grønns vei 24</td>\n",
       "      <td>Central Norway Regional Health Authority</td>\n",
       "    </tr>\n",
       "    <tr>\n",
       "      <th>11</th>\n",
       "      <td>Molde Hospital</td>\n",
       "      <td>1960</td>\n",
       "      <td>Møre og Romsdal</td>\n",
       "      <td>Parkvegen 84</td>\n",
       "      <td>Central Norway Regional Health Authority</td>\n",
       "    </tr>\n",
       "    <tr>\n",
       "      <th>12</th>\n",
       "      <td>Akershus University Hospital</td>\n",
       "      <td>1961</td>\n",
       "      <td>Oslo</td>\n",
       "      <td>Sykehusveien 25</td>\n",
       "      <td>Southern and Eastern Norway Regional Health Au...</td>\n",
       "    </tr>\n",
       "    <tr>\n",
       "      <th>13</th>\n",
       "      <td>Ålesund Hospital</td>\n",
       "      <td>1971</td>\n",
       "      <td>Møre og Romsdal</td>\n",
       "      <td>Åsehaugen 5</td>\n",
       "      <td>Central Norway Regional Health Authority</td>\n",
       "    </tr>\n",
       "    <tr>\n",
       "      <th>14</th>\n",
       "      <td>Førde Hospital Trust</td>\n",
       "      <td>1979</td>\n",
       "      <td>Vestland</td>\n",
       "      <td>Svanehaugvegen 2</td>\n",
       "      <td>Western Norway Regional Health Authority</td>\n",
       "    </tr>\n",
       "    <tr>\n",
       "      <th>15</th>\n",
       "      <td>Kirkenes Hospital</td>\n",
       "      <td>2018</td>\n",
       "      <td>Troms og Finnmark</td>\n",
       "      <td>Skytterhuveien</td>\n",
       "      <td>Northern Norway Regional Health Authority</td>\n",
       "    </tr>\n",
       "  </tbody>\n",
       "</table>\n",
       "</div>"
      ],
      "text/plain": [
       "                    Hospital_Name  Opened             County  \\\n",
       "0               Levanger Hospital    1843     Nord-Trøndelag   \n",
       "1                 Namsos Hospital    1848     Nord-Trøndelag   \n",
       "2            Lillehammer Hospital    1878          Innlandet   \n",
       "3                Drammen Hospital    1887              Viken   \n",
       "4     Ullevål University Hospital    1887               Oslo   \n",
       "5              Sandviken Hospital    1891           Vestland   \n",
       "6               St.Olavs Hospital    1902          Trøndelag   \n",
       "7   Haukeland University Hospital    1912           Vestland   \n",
       "8                  Hamar Hospital    1925          Innlandet   \n",
       "9   Stavanger University Hospital    1927           Rogaland   \n",
       "10                 Røros Hospital    1935          Trøndelag   \n",
       "11                 Molde Hospital    1960    Møre og Romsdal   \n",
       "12   Akershus University Hospital    1961               Oslo   \n",
       "13               Ålesund Hospital    1971    Møre og Romsdal   \n",
       "14           Førde Hospital Trust    1979           Vestland   \n",
       "15              Kirkenes Hospital    2018  Troms og Finnmark   \n",
       "\n",
       "                              Adress  \\\n",
       "0                        Kirkegata 2   \n",
       "1                       Havikvegen 8   \n",
       "2            Anders Sandvigs gate 17   \n",
       "3                    Dronninggata 28   \n",
       "4                     Kirkeveien 166   \n",
       "5                   Sandviksleitet 1   \n",
       "6         Prinsesse Kristinas gate 3   \n",
       "7                 Jonas Lies veit 65   \n",
       "8                       Skolegata 32   \n",
       "9   Gerd-Ragna Bloch Thorsens gate 8   \n",
       "10              Henrik Grønns vei 24   \n",
       "11                      Parkvegen 84   \n",
       "12                   Sykehusveien 25   \n",
       "13                       Åsehaugen 5   \n",
       "14                  Svanehaugvegen 2   \n",
       "15                    Skytterhuveien   \n",
       "\n",
       "                            Regional_Health_Authority  \n",
       "0            Central Norway Regional Health Authority  \n",
       "1            Central Norway Regional Health Authority  \n",
       "2   Southern and Eastern Norway Regional Health Au...  \n",
       "3   Southern and Eastern Norway Regional Health Au...  \n",
       "4   Southern and Eastern Norway Regional Health Au...  \n",
       "5            Western Norway Regional Health Authority  \n",
       "6            Central Norway Regional Health Authority  \n",
       "7            Western Norway Regional Health Authority  \n",
       "8   Southern and Eastern Norway Regional Health Au...  \n",
       "9            Western Norway Regional Health Authority  \n",
       "10           Central Norway Regional Health Authority  \n",
       "11           Central Norway Regional Health Authority  \n",
       "12  Southern and Eastern Norway Regional Health Au...  \n",
       "13           Central Norway Regional Health Authority  \n",
       "14           Western Norway Regional Health Authority  \n",
       "15          Northern Norway Regional Health Authority  "
      ]
     },
     "execution_count": 464,
     "metadata": {},
     "output_type": "execute_result"
    }
   ],
   "source": [
    "\n",
    "#%%md Creating a Series about each hospital, and adding how many population it is on every county.\n",
    "#%%md The Regional Health Authority in Norway is consisting of many countys. \n",
    "\n",
    "df_hospital= pd.DataFrame({\n",
    "    \n",
    "\"Hospital_Name\": [\"Levanger Hospital\", \"Namsos Hospital\", \"Lillehammer Hospital\", \"Drammen Hospital\", \"Ullevål University Hospital\", \"Sandviken Hospital\", \"St.Olavs Hospital\", \"Haukeland University Hospital\", \"Hamar Hospital\", \"Stavanger University Hospital\", \"Røros Hospital\", \"Molde Hospital\", \"Akershus University Hospital\", \"Ålesund Hospital\", \"Førde Hospital Trust\", \"Kirkenes Hospital\"],\n",
    "\"Opened\": [1843,1848,1878,1887,1887,1891,1902,1912,1925,1927,1935,1960,1961,1971,1979,2018],   \n",
    "\"County\": [\"Nord-Trøndelag\", \"Nord-Trøndelag\", \"Innlandet\", \"Viken\", \"Oslo\", \"Vestland\", \"Trøndelag\", \"Vestland\", \"Innlandet\", \"Rogaland\", \"Trøndelag\", \"Møre og Romsdal\", \"Oslo\", \"Møre og Romsdal\", \"Vestland\", \"Troms og Finnmark\"],\n",
    "\"Adress\": [\"Kirkegata 2\", \"Havikvegen 8\", \"Anders Sandvigs gate 17\", \"Dronninggata 28\", \"Kirkeveien 166\", \"Sandviksleitet 1\", \"Prinsesse Kristinas gate 3\", \"Jonas Lies veit 65\", \"Skolegata 32\", \"Gerd-Ragna Bloch Thorsens gate 8\", \"Henrik Grønns vei 24\", \"Parkvegen 84\", \"Sykehusveien 25\", \"Åsehaugen 5\", \"Svanehaugvegen 2\", \"Skytterhuveien\"],\n",
    "\"Regional_Health_Authority\": [\"Central Norway Regional Health Authority\", \"Central Norway Regional Health Authority\", \"Southern and Eastern Norway Regional Health Authority\", \"Southern and Eastern Norway Regional Health Authority\", \"Southern and Eastern Norway Regional Health Authority\", \"Western Norway Regional Health Authority\", \"Central Norway Regional Health Authority\", \"Western Norway Regional Health Authority\", \"Southern and Eastern Norway Regional Health Authority\", \"Western Norway Regional Health Authority\", \"Central Norway Regional Health Authority\", \"Central Norway Regional Health Authority\", \"Southern and Eastern Norway Regional Health Authority\", \"Central Norway Regional Health Authority\", \"Western Norway Regional Health Authority\", \"Northern Norway Regional Health Authority\"],\n",
    "})\n",
    "\n",
    "df_hospital \n"
   ]
  },
  {
   "cell_type": "code",
   "execution_count": 467,
   "id": "23cf2cba",
   "metadata": {},
   "outputs": [
    {
     "data": {
      "text/plain": [
       "<function matplotlib.pyplot.legend(*args, **kwargs)>"
      ]
     },
     "execution_count": 467,
     "metadata": {},
     "output_type": "execute_result"
    },
    {
     "data": {
      "image/png": "[encoded data removed]",
      "text/plain": [
       "<Figure size 1008x504 with 1 Axes>"
      ]
     },
     "metadata": {},
     "output_type": "display_data"
    }
   ],
   "source": [
    "#%%md Creating matplotlib to show when the different hospitals opened in Norway.\n",
    "#%%md Using this function to show the development.\n",
    "#%%md We can see here that the development has been rising from the year 1843 to 2018.\n",
    "\n",
    "\n",
    "\n",
    "plt.figure(figsize=(14,7))\n",
    "\n",
    "plt.plot(df_hospital.loc[:,\"Hospital_Name\"], df_hospital.loc[:,\"Opened\"], color=\"Orange\", label=\"Development of number of Hospitals\")\n",
    "plt.xticks(rotation=40)\n",
    "plt.grid(linewidth=1)\n",
    "\n",
    "plt.title(\"Development of number of Hospitals\")\n",
    "plt.xlabel(\"Hospital Name\")\n",
    "plt.ylabel(\"Year\")\n",
    "plt.legend\n",
    "\n",
    "\n"
   ]
  },
  {
   "cell_type": "code",
   "execution_count": 321,
   "id": "e613570b",
   "metadata": {},
   "outputs": [
    {
     "data": {
      "text/plain": [
       "Regional_Health_Authority\n",
       "Central Norway Regional Health Authority                 6\n",
       "Northern Norway Regional Health Authority                1\n",
       "Southern and Eastern Norway Regional Health Authority    5\n",
       "Western Norway Regional Health Authority                 4\n",
       "dtype: int64"
      ]
     },
     "execution_count": 321,
     "metadata": {},
     "output_type": "execute_result"
    }
   ],
   "source": [
    "#%%md Creating groupby DataFrame.\n",
    "#%%md Sorting out which hospital who belongs to each Regional Health Authority.\n",
    "#%%md Its 6 hospital under Central Regional Health Authority.\n",
    "#%%md 1 hospitals in Northern Regional Helth Authority.\n",
    "#%%md 5 hospitals in Southern and Eastern Regional Health Authority.\n",
    "#%%md 4 hospitals in Western Regional Health Authority.\n",
    "\n",
    "df_hospital = df_hospital.groupby(['Regional_Health_Authority']).size()\n",
    "\n",
    "df_hospital\n"
   ]
  },
  {
   "cell_type": "code",
   "execution_count": 313,
   "id": "67bc76bc",
   "metadata": {},
   "outputs": [
    {
     "data": {
      "text/plain": [
       "<AxesSubplot:xlabel='Regional Health Authority'>"
      ]
     },
     "execution_count": 313,
     "metadata": {},
     "output_type": "execute_result"
    },
    {
     "data": {
      "image/png": "[encoded data removed]",
      "text/plain": [
       "<Figure size 432x288 with 1 Axes>"
      ]
     },
     "metadata": {},
     "output_type": "display_data"
    }
   ],
   "source": [
    "\n",
    "#%%md Plotting this into a bar to get data vizualtation.\n",
    "##%% Using dataframe.plot.bar function.\n",
    "\n",
    "df_hospital.plot.bar()"
   ]
  },
  {
   "cell_type": "code",
   "execution_count": 314,
   "id": "12c64470",
   "metadata": {
    "scrolled": true
   },
   "outputs": [
    {
     "data": {
      "text/html": [
       "<div>\n",
       "<style scoped>\n",
       "    .dataframe tbody tr th:only-of-type {\n",
       "        vertical-align: middle;\n",
       "    }\n",
       "\n",
       "    .dataframe tbody tr th {\n",
       "        vertical-align: top;\n",
       "    }\n",
       "\n",
       "    .dataframe thead th {\n",
       "        text-align: right;\n",
       "    }\n",
       "</style>\n",
       "<table border=\"1\" class=\"dataframe\">\n",
       "  <thead>\n",
       "    <tr style=\"text-align: right;\">\n",
       "      <th></th>\n",
       "      <th>Regional_Health_Authority</th>\n",
       "      <th>County</th>\n",
       "      <th>Population</th>\n",
       "    </tr>\n",
       "  </thead>\n",
       "  <tbody>\n",
       "    <tr>\n",
       "      <th>0</th>\n",
       "      <td>Central Norway Regional Health Authority</td>\n",
       "      <td>Møre og Romsdal</td>\n",
       "      <td>265238</td>\n",
       "    </tr>\n",
       "    <tr>\n",
       "      <th>1</th>\n",
       "      <td>Central Norway Regional Health Authority</td>\n",
       "      <td>Nord-Trøndelag</td>\n",
       "      <td>137858</td>\n",
       "    </tr>\n",
       "    <tr>\n",
       "      <th>2</th>\n",
       "      <td>Central Norway Regional Health Authority</td>\n",
       "      <td>Trøndelag</td>\n",
       "      <td>320884</td>\n",
       "    </tr>\n",
       "    <tr>\n",
       "      <th>3</th>\n",
       "      <td>Northern Norway Regional Health Authority</td>\n",
       "      <td>Troms og Finnmark</td>\n",
       "      <td>243311</td>\n",
       "    </tr>\n",
       "    <tr>\n",
       "      <th>4</th>\n",
       "      <td>Southern and Eastern Norway Regionl Health Aut...</td>\n",
       "      <td>Innlandet</td>\n",
       "      <td>371385</td>\n",
       "    </tr>\n",
       "    <tr>\n",
       "      <th>5</th>\n",
       "      <td>Southern and Eastern Norway Regionl Health Aut...</td>\n",
       "      <td>Viken</td>\n",
       "      <td>1241165</td>\n",
       "    </tr>\n",
       "    <tr>\n",
       "      <th>6</th>\n",
       "      <td>Southern and Eastern Norway Regionl Health Aut...</td>\n",
       "      <td>Oslo</td>\n",
       "      <td>694493</td>\n",
       "    </tr>\n",
       "    <tr>\n",
       "      <th>7</th>\n",
       "      <td>Western Norway Regional Health Authority</td>\n",
       "      <td>Vestland</td>\n",
       "      <td>636531</td>\n",
       "    </tr>\n",
       "    <tr>\n",
       "      <th>8</th>\n",
       "      <td>Western Norway Regional Health Authority</td>\n",
       "      <td>Rogaland</td>\n",
       "      <td>479892</td>\n",
       "    </tr>\n",
       "  </tbody>\n",
       "</table>\n",
       "</div>"
      ],
      "text/plain": [
       "                           Regional_Health_Authority             County  \\\n",
       "0           Central Norway Regional Health Authority    Møre og Romsdal   \n",
       "1           Central Norway Regional Health Authority     Nord-Trøndelag   \n",
       "2           Central Norway Regional Health Authority          Trøndelag   \n",
       "3          Northern Norway Regional Health Authority  Troms og Finnmark   \n",
       "4  Southern and Eastern Norway Regionl Health Aut...          Innlandet   \n",
       "5  Southern and Eastern Norway Regionl Health Aut...              Viken   \n",
       "6  Southern and Eastern Norway Regionl Health Aut...               Oslo   \n",
       "7           Western Norway Regional Health Authority           Vestland   \n",
       "8           Western Norway Regional Health Authority           Rogaland   \n",
       "\n",
       "   Population  \n",
       "0      265238  \n",
       "1      137858  \n",
       "2      320884  \n",
       "3      243311  \n",
       "4      371385  \n",
       "5     1241165  \n",
       "6      694493  \n",
       "7      636531  \n",
       "8      479892  "
      ]
     },
     "execution_count": 314,
     "metadata": {},
     "output_type": "execute_result"
    }
   ],
   "source": [
    "#%%md Creating a DataFrame to sort each population county who belongs under each Region Health Authority.\n",
    "#%%md Each Region Health Authority is cosisting of several hospitals and is sort by which county it is from.\n",
    "\n",
    "\n",
    "data = (['Central Norway Regional Health Authority', 'Møre og Romsdal',265238],\n",
    "       ['Central Norway Regional Health Authority', 'Nord-Trøndelag',137858],\n",
    "       ['Central Norway Regional Health Authority', 'Trøndelag',320884],\n",
    "        ['Northern Norway Regional Health Authority', 'Troms og Finnmark',243311],\n",
    "       ['Southern and Eastern Norway Regionl Health Authority', 'Innlandet',371385],\n",
    "       ['Southern and Eastern Norway Regionl Health Authority', 'Viken',1241165],\n",
    "       ['Southern and Eastern Norway Regionl Health Authority', 'Oslo',694493],\n",
    "       ['Western Norway Regional Health Authority', 'Vestland',636531],\n",
    "       ['Western Norway Regional Health Authority', 'Rogaland',479892,])\n",
    "df1 = pd.DataFrame(data, columns=['Regional_Health_Authority','County', 'Population'])\n",
    "df1"
   ]
  },
  {
   "cell_type": "code",
   "execution_count": 315,
   "id": "2dfc6a15",
   "metadata": {},
   "outputs": [
    {
     "data": {
      "text/html": [
       "<div>\n",
       "<style scoped>\n",
       "    .dataframe tbody tr th:only-of-type {\n",
       "        vertical-align: middle;\n",
       "    }\n",
       "\n",
       "    .dataframe tbody tr th {\n",
       "        vertical-align: top;\n",
       "    }\n",
       "\n",
       "    .dataframe thead th {\n",
       "        text-align: right;\n",
       "    }\n",
       "</style>\n",
       "<table border=\"1\" class=\"dataframe\">\n",
       "  <thead>\n",
       "    <tr style=\"text-align: right;\">\n",
       "      <th></th>\n",
       "      <th>Population</th>\n",
       "    </tr>\n",
       "    <tr>\n",
       "      <th>Regional_Health_Authority</th>\n",
       "      <th></th>\n",
       "    </tr>\n",
       "  </thead>\n",
       "  <tbody>\n",
       "    <tr>\n",
       "      <th>Central Norway Regional Health Authority</th>\n",
       "      <td>723980</td>\n",
       "    </tr>\n",
       "    <tr>\n",
       "      <th>Northern Norway Regional Health Authority</th>\n",
       "      <td>243311</td>\n",
       "    </tr>\n",
       "    <tr>\n",
       "      <th>Southern and Eastern Norway Regionl Health Authority</th>\n",
       "      <td>2307043</td>\n",
       "    </tr>\n",
       "    <tr>\n",
       "      <th>Western Norway Regional Health Authority</th>\n",
       "      <td>1116423</td>\n",
       "    </tr>\n",
       "  </tbody>\n",
       "</table>\n",
       "</div>"
      ],
      "text/plain": [
       "                                                    Population\n",
       "Regional_Health_Authority                                     \n",
       "Central Norway Regional Health Authority                723980\n",
       "Northern Norway Regional Health Authority               243311\n",
       "Southern and Eastern Norway Regionl Health Auth...     2307043\n",
       "Western Norway Regional Health Authority               1116423"
      ]
     },
     "execution_count": 315,
     "metadata": {},
     "output_type": "execute_result"
    }
   ],
   "source": [
    "#%%md Sums up the population of each county to the belonging Regional Health Authority. \n",
    "#%%md Using groupby DataFrame function to sum the population.\n",
    "\n",
    "df1=df1.groupby(['Regional_Health_Authority']).sum(['Population'])\n",
    "\n",
    "df1 \n",
    "\n",
    "#ax=df1.plot(kind = 'bar')\n"
   ]
  },
  {
   "cell_type": "code",
   "execution_count": 468,
   "id": "d095a398",
   "metadata": {},
   "outputs": [
    {
     "data": {
      "image/png": "[encoded data removed]",
      "text/plain": [
       "<Figure size 432x288 with 1 Axes>"
      ]
     },
     "metadata": {},
     "output_type": "display_data"
    }
   ],
   "source": [
    "#Plotting this and using the plot-function from the dataframe.\n",
    "#As you can see under this histogram visualize the population of each Regional Health Authority.\n",
    "\n",
    "ax=df1.plot(kind = 'bar', color='Purple')\n"
   ]
  },
  {
   "cell_type": "code",
   "execution_count": null,
   "id": "1ae4ed13",
   "metadata": {},
   "outputs": [],
   "source": [
    "#%%md CONCLUSION ON TASK 3\n",
    "\n",
    "#%%md Considering to this data only shows the 16 hospitals I chose from task 2. \n",
    "#%%md Lets say that that this is the only hospitals in Norway.\n",
    "#%%md We can see that the Southern and Eastern Norway Regional Health Authority has the largest population.\n",
    "#%%md It has the second most of hospitals from the Reginal Health Authority.\n",
    "#%%md Central Norway Regional Health Authority has the most hospitals.\n",
    "#%%md And not so many population comparing to Western Norway Regional Health Authority and Southern and Eastern.\n",
    "#%%md In conclusion this shows us that the most population in Norway has not the biggest Regional Health Authority. \n"
   ]
  }
 ],
 "metadata": {
  "kernelspec": {
   "display_name": "Python 3 (ipykernel)",
   "language": "python",
   "name": "python3"
  },
  "language_info": {
   "codemirror_mode": {
    "name": "ipython",
    "version": 3
   },
   "file_extension": ".py",
   "mimetype": "text/x-python",
   "name": "python",
   "nbconvert_exporter": "python",
   "pygments_lexer": "ipython3",
   "version": "3.12.4"
  }
 },
 "nbformat": 4,
 "nbformat_minor": 5
}
